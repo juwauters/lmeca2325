{
 "cells": [
  {
   "cell_type": "markdown",
   "metadata": {},
   "source": [
    "Last Name:\n",
    "\n",
    "First Name:\n",
    "\n",
    "NOMA:\n"
   ]
  },
  {
   "cell_type": "markdown",
   "metadata": {},
   "source": [
    "This completed assignment must be uploaded to **Moodle** before XX/XX/2020, in two formats:\n",
    "1. the present `.ipynb` file, with your results, and\n",
    "2. a \"frozen\" `.html` version, via `File>Download as>HTML (.html)`\n",
    "\n",
    "Before starting this assignment, remember to **complete your Name and NOMA** in the first cell of this notebook"
   ]
  },
  {
   "cell_type": "markdown",
   "metadata": {},
   "source": [
    "# Introduction"
   ]
  },
  {
   "cell_type": "markdown",
   "metadata": {},
   "source": [
    "## Contents\n",
    "This Notebook is your interface to use the Equilibrium Model, for which the code is found in the attached `.py` files. It is structured in 4 parts:\n",
    "1. The description of the model and its underlying equations\n",
    "2. JANAF data: some explanations on the thermochemical data used by the model, and observations on the reaction enthalpy and equilibrium constants\n",
    "3. \"How-to\": the practical explanation on how to make use of the model and a small example\n",
    "4. **Assignment**: this is the part where you will make your own analyses using the model, and summarize your conclusions and observations using Markdown cells."
   ]
  },
  {
   "cell_type": "markdown",
   "metadata": {},
   "source": [
    "## Required packages\n",
    "\n",
    "To run the model, first make sure the following Python packages are installed on your computer:\n",
    "- `numpy`\n",
    "- `scipy`\n",
    "- `pandas`\n",
    "- `plotly`\n",
    "- `molmass`\n",
    "- `warnings`\n",
    "- `tqdm`\n",
    "\n",
    "**Run the next cell to import the model and packages**"
   ]
  },
  {
   "cell_type": "code",
   "execution_count": null,
   "metadata": {},
   "outputs": [],
   "source": [
    "from functions_janaf import *\n",
    "from functions_model import model_results, ER_optimization\n",
    "from functions_parametric_analyses import parametric_analysis, parametric_analysis_2D, extract_1D_results, parametric_analysis_display, parametric_analysis_2D_display\n",
    "from functions_plot import plot_var, plot_contour, plot_sankey, px, go"
   ]
  },
  {
   "cell_type": "markdown",
   "metadata": {},
   "source": [
    "# MODEL DESCRIPTION"
   ]
  },
  {
   "cell_type": "markdown",
   "metadata": {},
   "source": [
    "The equilibrium model that you will use to simulate biomass gasification is based on the combination of the global stoichiometric reaction, and intermediate reactions which are assumed to reach equilibrium, all given below."
   ]
  },
  {
   "cell_type": "markdown",
   "metadata": {},
   "source": [
    "$\n",
    "\\text{CH$_y$O$_x$N$_z$} + m \\mathrm{H_2O}_l + s \\mathrm{H_2O}_g + w\\left(\\mathrm{O_2} + \\xi\\mathrm{N_2}\\right)\\qquad \\qquad \\qquad \\\\\n",
    "\\qquad \\qquad \\qquad \\Rightarrow a_1\\mathrm{CO} + a_2\\mathrm{CO_2} + a_4\\mathrm{CH_4} + b_1\\mathrm{H_2} + b_2\\mathrm{H_2O}_g + \\left(\\frac{z}{2}+\\xi w\\right)\\mathrm{N_2} + a_0\\mathrm{C}_s\n",
    "$"
   ]
  },
  {
   "cell_type": "markdown",
   "metadata": {},
   "source": [
    "**Boudouard ($\\mathrm{CO_2}$ gasification)**: $$\\mathrm{C\\mathit{_s} + CO_2 <=>2CO}$$\n",
    "**Water gasification**: $$\\mathrm{C\\mathit{_s} + H_2O <=> CO + H_2}$$\n",
    "**Shift (WGS - Water-Gas Shift)**: $$\\mathrm{CO + H_2O <=> CO_2 + H_2}$$\n",
    "**SMR (Steam Methane Reforming)**: $$\\mathrm{CH_4 + H_2O <=> CO + 3H_2}$$\n",
    "**Methanation**: $$\\mathrm{C\\mathit{_s} + 2H_2 <=> CH_4}$$"
   ]
  },
  {
   "cell_type": "markdown",
   "metadata": {},
   "source": [
    "## Products composition"
   ]
  },
  {
   "cell_type": "markdown",
   "metadata": {},
   "source": [
    "Assuming a given value of the equilibrium temperature $T_{eq}$ (= temperature of the products), these chemical reactions can be used to determine the **composition of the syngas** by solving *mass conservation* and *chemical equilibrium* equations. As there are *6 unknowns* for syngas composition ($a_1$, $a_2$, $a_4$, $b_1$, $b_2$ and $a_0$), *6 equations* are required: the conservation of C, H and O, and **three equilibrium equations**. Any choice of three *independent* reactions should yield identical results: here the chosen combination was WGS, SMR and Boudouard. The last equation is added to ensure the gas concentrations sum up to 1.\n",
    "\n",
    "In situations where no solid Carbon is found in the products, the three reactions involving $\\mathrm{C}_s$ should not be used. Simultaneously, an equation can be removed as $n_{\\mathrm{C}_s}$ is no more unknown: Boudouard reaction equilibrium is hence not considered in that case.\n",
    "\n",
    "**As a personal exercise, re-develop the system of equations below on your own**"
   ]
  },
  {
   "cell_type": "markdown",
   "metadata": {},
   "source": [
    "**Model equations - syngas composition**:\n",
    "\n",
    "\\begin{align}\n",
    "&x_{\\mathrm{CO}} + x_{\\mathrm{CO2}} + x_{\\mathrm{CH_4}} - (1 - n_{\\mathrm{C}_s})\\frac{x_{N_2}}{n_{N_2}} = 0\\\\\n",
    "&4 x_{\\mathrm{CH_4}} + 2 x_{\\mathrm{H_2}} + 2 x_{\\mathrm{H_2O}_g}  - (y + 2m + 2s)\\frac{x_{N_2}}{n_{N_2}} = 0\\\\\n",
    "&x_{\\mathrm{CO}} + 2 x_{\\mathrm{CO_2}} + x_{\\mathrm{H_2O}_g} - (x + m + s + 2w)\\frac{x_{N_2}}{n_{N_2}} = 0\\\\\n",
    "&x_{\\mathrm{CO_2}}x_{\\mathrm{H_2}} - x_{\\mathrm{CO}}n_{\\mathrm{H_2O}_g}K_{\\text{Shift}}  = 0\\\\\n",
    "&x_{\\mathrm{CO}}x_{\\mathrm{H_2}}^3 \\left(\\frac{1}{n_{gas}}\\frac{p}{p^°}\\right)^2 - x_{\\mathrm{CH_4}}x_{\\mathrm{H2O}_g}K_{\\text{SMR}} = 0\\\\\n",
    "&x_{\\mathrm{CO}}^2 \\frac{p}{p^°} - x_{\\mathrm{CO_2}}K_{\\text{Boudouard}} = 0 \\qquad \\qquad \\text{(only if solid Carbon present in the Products)} \\qquad  \\qquad \\\\\n",
    "&x_{\\mathrm{CO}} + x_{\\mathrm{CO_2}} + x_{\\mathrm{CH_4}} + x_{\\mathrm{H_2}} + x_{\\mathrm{H_2O}_g} + x_{N_2} - 1 = 0\\\\\n",
    "\\end{align}\n",
    "\n",
    "The unknowns are $x_{\\mathrm{CO}}$, $x_{\\mathrm{CO_2}}$, $x_{\\mathrm{CH_4}}$, $x_{\\mathrm{H_2}}$, $x_{\\mathrm{H_2O}_g} $, $x_{N_2}$ and $n_{\\mathrm{C}_s}$, where $x_i=\\frac{n_i}{n_{gas}}$ with $n_{gas}=\\frac{n_{N_2}}{x_{N_2}}$ the total number of gas moles, and $n_{N_2}=\\frac{z}{2}+\\xi w$\n"
   ]
  },
  {
   "cell_type": "markdown",
   "metadata": {},
   "source": [
    "## Equilibrium temperature"
   ]
  },
  {
   "cell_type": "markdown",
   "metadata": {},
   "source": [
    "The above system of equations is combined with **energy conservation**, used to determine $T_{eq}$ assuming an adiabatic reactor. This consists in equating the products enthalpy to the reactants enthalpy (LHV + sensible enthalpy). In an iterative process, energy conservation and the above model equations are solved until the equilibrium temperature and products composition is found.\n",
    "\n",
    "The functions constituting the equilibrium model, described below, can be found in the file `functions_model.py`.\n",
    "\n",
    "**Have a look at these functions to make sure you understand how the model works before starting the analyses below**."
   ]
  },
  {
   "cell_type": "markdown",
   "metadata": {},
   "source": [
    "## ER optimization"
   ]
  },
  {
   "cell_type": "markdown",
   "metadata": {},
   "source": [
    "For each set of gasification parameters, there exists an optimum value of the equivalence ratio (ER = $\\lambda$) that corresponds to the situation where all carbon is converted (no solid carbon remains), in which case the **cold gas efficiency (CGE)** is maximized. The CGE corresponds to the energy content of the dry and cold syngas, relative to the energy content in the biomass feedstock, as:\n",
    "\n",
    "$$\n",
    "\\mathrm{CGE} = \\dfrac{n_{\\mathrm{CO}} \\mathrm{LHV}_{\\mathrm{CO}} + n_{\\mathrm{H_2}} \\mathrm{LHV}_{\\mathrm{H_2}} + n_{\\mathrm{CH_4}} \\mathrm{LHV}_{\\mathrm{CH_4}}}{\\mathrm{LHV}_{\\text{CH$_y$O$_x$N$_z$}}}\n",
    "$$\n",
    "\n",
    "If ER optimization is activated, the above model will be iterated over the parameter **ER** until the maximum **CGE** is obtained"
   ]
  },
  {
   "cell_type": "markdown",
   "metadata": {},
   "source": [
    "# JANAF DATA"
   ]
  },
  {
   "cell_type": "markdown",
   "metadata": {},
   "source": [
    "Thermochemical data for the model are taken from **NIST-JANAF** database, available at: https://janaf.nist.gov/\n",
    "\n",
    "JANAF tables contain the following properties (amongst others) for a large number of molecules, at various temperatures, considering Standard state pressure p° = 1 bar and reference temperature Tr = 298.15 K:\n",
    "- *Enthalpy*: `H-H(Tr)` [kJ/mol]\n",
    "- *Formation enthalpy*: `delta-f H` [kJ/mol]\n",
    "- *Equilibrium constant of formation*: `log Kf` [-] \n",
    "\n",
    "For this model, the required tables are provided in the folder JANAF and called automatically by the functions in `functions_janaf.py`.\n",
    "\n",
    "**Have a look at these functions to make sure you understand the underlying data used by the model and how they are used.**"
   ]
  },
  {
   "cell_type": "markdown",
   "metadata": {},
   "source": [
    "## Reaction enthalpy and equilibrium constants"
   ]
  },
  {
   "cell_type": "markdown",
   "metadata": {},
   "source": [
    "*The below data might be useful to analyse the model results:*"
   ]
  },
  {
   "cell_type": "code",
   "execution_count": null,
   "metadata": {},
   "outputs": [],
   "source": [
    "delta_r_H_disp = delta_r_H.to_frame(r\"$\\Delta_r H [\\mathrm{kJ/mol}]$\")\\\n",
    "                          .set_index(delta_r_H.index)\n",
    "\n",
    "display(delta_r_H_disp)"
   ]
  },
  {
   "cell_type": "code",
   "execution_count": null,
   "metadata": {},
   "outputs": [],
   "source": [
    "T = kelvin(np.arange(300,1100,20))\n",
    "logKr = pd.DataFrame(index=T, columns=reactions.keys()).rename_axis('T')\n",
    "for reaction in reactions:\n",
    "    logKr[reaction] = log_Kr(reaction, T)\n",
    "logKr.index = celsius(logKr.index)\n",
    "logKr.rename_axis('Teq [°C]', axis=0, inplace=True)\n",
    "\n",
    "px.line(logKr.reset_index().melt(id_vars='Teq [°C]',var_name='reaction',value_name='log Kr'),x='Teq [°C]',y='log Kr',color='reaction',\n",
    "        title='Equilibrium constants of main gasification reactions')"
   ]
  },
  {
   "cell_type": "markdown",
   "metadata": {},
   "source": [
    "# HOW TO USE THE MODEL"
   ]
  },
  {
   "cell_type": "markdown",
   "metadata": {},
   "source": [
    "## Model execution"
   ]
  },
  {
   "cell_type": "markdown",
   "metadata": {},
   "source": [
    "To perform simulations with the equilibrium model described above, the following **functions** are available. These functions are found in the files `functions_model.py` and `functions_parametric_analyses.py`.\n",
    "\n",
    "- `model_results`: equilibrium model results for a given set of parameters\n",
    "- `ER_optimization`: equilibrium model results for a given set of parameters, with ER optimization\n",
    "- `parametric_analysis`: equilibrium model results with one varying parameter, with or without ER optimization\n",
    "- `parametric_analysis_2D`: equilibrium model results with two varying parameters, with or without ER optimization\n",
    "\n",
    "These functions accept the following **inputs**:\n",
    "- `input_param` or `other_param`: dict of constant non-default parameters\n",
    "- `var_ID`, `var1`, `var2`: name(s) of varying parameters for parametric analyses\n",
    "- `var_values`, `vals1`, `vals2`: values (list, array or series) of the varying parameters for parametric analyses\n",
    "- `ER_optim`: boolean - use ER optimization or not (for parametric analyses) [default=False]\n",
    "- `Teq_min`: constrained minimum on the equilibrium temperature in the case of ER optimization, in Celsius [default=0]\n",
    "\n",
    "These functions return **two outputs**:\n",
    "- `param`: summary of the simulation parameters (only the non-varying parameters).\n",
    "- `results`:\n",
    "    - `Teq` = the equilibrium temperature\n",
    "    - `dfReac` = reactants composition, temperature, enthalpy, LHV... (called `dfReacs` for parametric analyses)\n",
    "    - `dfProd` = products composition, temperature, enthalpy, LHV... (called `dfProds` for parametric analyses)\n",
    "    - `dfReac_tot` = reactants aggregated results (total / average as applicable)\n",
    "    - `dfProd_dnc` = products aggregated results, excluding solid Carbon and H2O for dry gas basis (total / average)\n",
    "    - `ER` = optimum equivalence ratio (only for parametric analyses with ER optimization)\n",
    "    \n",
    "For the detailed definition of all columns of these DataFrames, have a look at their assignment in the functions `initiate_constants`, `solve_temperature`, `calculate_energy_figures` and `aggregate_results`\n",
    "\n",
    "According to the number of **varying parameters** (0, 1 or 2) and the number of **dimensions** of each result (0 for `Teq`, 2 for `dfReac` and `dfProd` and 1 for `dfReac_tot` and `dfProd_dnc`), the corresponding output will be either of a float, a Series, a DataFrame, a dict of DataFrames or a dict of dict of DataFrames.\n",
    "\n",
    "To facilitate the extraction of results in the latter two cases, the following functions are available:\n",
    "- `extract_1D_results`: extract results along one dimension of 2D results, producing results of a 1D analysis\n",
    "- `extract_single_function_1D`: extract a column of dfProd or dfReac from 1D results, in the form of a DataFrame\n",
    "- `extract_single_function_2D`: extract a column of dfReac, dfProd, dfReac_tot or dfProd_dnc from 2D results, in the form of a DataFrame\n",
    "\n",
    "**Make sure to have a look at these functions to understand how to use them.**"
   ]
  },
  {
   "cell_type": "markdown",
   "metadata": {},
   "source": [
    "## Input parameters\n",
    "\n",
    "When calling either of the 4 model functions above, the following parameters can be either:\n",
    "- **left as default** using the default values listed below (if not specified)\n",
    "- **set to a constant value** by defining them in the `input_param` or `other_param` dict\n",
    "- **made to vary** through a parametric analysis\n",
    "\n",
    "After a simulation, you should verify the `param` output to make sure of the parameters used for the results."
   ]
  },
  {
   "cell_type": "markdown",
   "metadata": {},
   "source": [
    "**Biomass parameters:**\n",
    "\n",
    "To specify non-default biomass parameters, the best way is to include in the `input_param` dict an element `biomass` defined using the function `biomass_data` (from `functions_janaf.py`). To specify the LHV, you must either give `LHV_kg` [kJ/kg] or `LHV_mol` [kJ/mol].\n",
    "\n",
    "*Biomass parameters are not meant to vary in a parametric analysis.*\n",
    "\n",
    "| Parameter | Default value | Unit |\n",
    "|:--|--:|:--|\n",
    "| x    | 0.66  ||\n",
    "| y    | 1.44  ||\n",
    "| z    | 0  ||\n",
    "| LHV  | 18500  | kJ/kg |\n"
   ]
  },
  {
   "cell_type": "markdown",
   "metadata": {},
   "source": [
    "**Model parameters and default values:**\n",
    "\n",
    "These parameters can be set directly in the `input_param` or `other_param` dict.\n",
    "They can be made to vary in parametric analyses.\n",
    "\n",
    "| Parameter | Default value | Unit | Description |\n",
    "|:--|--:|:--|:--|\n",
    "| ER     | 0.30  | - | Equivalence Ratio ($\\lambda$)|\n",
    "| O2_air | 0.21  | - | molar content of O2 in air |\n",
    "| M      | 0.1 | kg_H2O / kg_bm_dry | Biomass moisture content (dry basis) |\n",
    "| SBR    | 0    | kg_H2O / kg_bm_dry | Steam to biomass ratio |\n",
    "| p      | 1     | bara | Gasification pressure |\n",
    "| Tair   | 25    | °C | Air inlet temperature |\n",
    "| Tst   | 150    | °C | Steam inlet temperature |"
   ]
  },
  {
   "cell_type": "markdown",
   "metadata": {},
   "source": [
    "## Results display\n",
    "\n",
    "To display the results, the following functions are provided.\n",
    "\n",
    "- `plot_var`: plot one or several columns of a Series or DataFrame against its index, with predefined layout\n",
    "- `plot_contour`: creates a contour plot of the data of a DataFrame\n",
    "- `plot_sankey`: creates a Sankey diagram of the conversion from dfReac to dfProd, for energy, C, H or O\n",
    "- `parametric_analysis_display`: plot results of 1D parametric analysis\n",
    "- `parametric_analysis_2D_display`: plot results of 2D parametric analysis\n",
    "\n",
    "*Note*: Teq is converted to Celsius while CGE and other ratios are converted in % for display"
   ]
  },
  {
   "cell_type": "markdown",
   "metadata": {},
   "source": [
    "## Example: Carbon gasification (no ER optimization)"
   ]
  },
  {
   "cell_type": "code",
   "execution_count": null,
   "metadata": {},
   "outputs": [],
   "source": [
    "biomass = biomass_data(x=0,y=0,z=0,LHV_mol=LHV_species['C']) #LHV_species was defined in functions_janaf.py\n",
    "input_param = dict(M=0, # dry carbon\n",
    "                   biomass=biomass)\n",
    "\n",
    "results, param = model_results(input_param)\n",
    "display(param)\n",
    "plot_sankey(results['dfReac'], results['dfProd'], 'energy')"
   ]
  },
  {
   "cell_type": "code",
   "execution_count": null,
   "metadata": {},
   "outputs": [],
   "source": [
    "biomass = biomass_data(x=0,y=0,z=0,LHV_mol=LHV_species['C']) #LHV_species was defined in functions_janaf.py\n",
    "input_param = dict(M=0, # dry carbon\n",
    "                   biomass=biomass)\n",
    "\n",
    "results, param = parametric_analysis('ER',[x/10 for x in range(1,10)],input_param)\n",
    "display(param)\n",
    "parametric_analysis_display(results, ['nmol','CGE'])"
   ]
  },
  {
   "cell_type": "markdown",
   "metadata": {},
   "source": [
    "# ASSIGNMENT"
   ]
  },
  {
   "cell_type": "markdown",
   "metadata": {},
   "source": [
    "## Introduction\n",
    "\n",
    "The objective of this exploratory project is for you to play around with the equilibrium model: read the code to understand its underlying structure, try out different configurations, observe and analyse the results while keeping in mind the underlying assumptions, think about how to produce the best syngas, or how to valorize lower quality biomass, compare situations...\n",
    "\n",
    "To provide your comments, observations, remarks, questions, conclusions, please use Markdown cells within the notebook, in addition to the graphs that you'll plot. **What we are interested in are your observations more than the graphs or figures that you'll obtain**. To analyse your results, you might amongst others want to use the graph of logKr, which will help you understand what shifts the syngas composition in one direction or another.\n",
    "\n",
    "The questions are left relatively open on purpose: we expect you to use your own curiosity to dig around and raise interesting results or findings. The main goal is for you to get very familiar with the thermochemistry of biomass thermochemical gasification. We have written a few questions below to guide you, and we expect that you will make use of the last \"free\" section to try out other analyses.\n",
    "\n",
    "**This assignment is not graded, but might be subject to questions during the examination.**"
   ]
  },
  {
   "cell_type": "markdown",
   "metadata": {},
   "source": [
    "## Biomass gasification: impact of moisture content"
   ]
  },
  {
   "cell_type": "markdown",
   "metadata": {},
   "source": [
    "### Biomass moisture level\n",
    "\n",
    "For the following analyses, you will consider the gasification of woody biomass of (default) parameters $\\mathrm{CH_{1.44}O_{0.66}}$ and LHV = 18.5 MJ/kg.\n",
    "\n",
    "We want to evaluate the impact of **drying** on the quality of the gasification. Based on the model results, using the available functions, assess and compare the performance of gasification between:\n",
    "- Fresh biomass - moisture content = 50%\n",
    "- Air-dried biomass - moisture content = 20 to 40%\n",
    "- Oven-dried biomass - moisture content = 5 to 10%\n",
    "- Dry biomass (theoretical) -> moisture content = 0%\n",
    "\n",
    "How does the gasification efficency CGE and syngas energy content LHV evolve with the moisture content of biomass? You can consider that the gasifier is operated at the optimal air-fuel ratio. "
   ]
  },
  {
   "cell_type": "code",
   "execution_count": null,
   "metadata": {},
   "outputs": [],
   "source": []
  },
  {
   "cell_type": "markdown",
   "metadata": {},
   "source": [
    "**Observations**:"
   ]
  },
  {
   "cell_type": "markdown",
   "metadata": {},
   "source": [
    "### Energetic cost of drying\n",
    "\n",
    "Compare the gain of using dried biomass to the theoretical cost of drying it (considering only the required energy to evaporate the moisture, assuming all heat is transferred directly to the water).\n",
    "\n",
    "What solutions can be used to dry biomass at the lowest possible energy cost?"
   ]
  },
  {
   "cell_type": "code",
   "execution_count": null,
   "metadata": {},
   "outputs": [],
   "source": []
  },
  {
   "cell_type": "markdown",
   "metadata": {},
   "source": [
    "**Observations**:\n",
    "\n"
   ]
  },
  {
   "cell_type": "markdown",
   "metadata": {},
   "source": [
    "## Biomass: impact of steam injection"
   ]
  },
  {
   "cell_type": "markdown",
   "metadata": {},
   "source": [
    "### Constant ER\n",
    "\n",
    "Instead of moisture, it could be interesting to inject steam to the gasification process. Analyse the effect of steam injection quantity (`SBR`) and temperature (`Tst`) on the syngas characteristics, in particular on its LHV and composition, first with a constant air-fuel ratio."
   ]
  },
  {
   "cell_type": "code",
   "execution_count": null,
   "metadata": {},
   "outputs": [],
   "source": []
  },
  {
   "cell_type": "markdown",
   "metadata": {},
   "source": [
    "**Observations**:\n"
   ]
  },
  {
   "cell_type": "markdown",
   "metadata": {},
   "source": [
    "### Optimized ER\n",
    "\n",
    "Compare the above results with the situation with optimized ER, closer to how a practical gasifier would be operated, trying to find the optimal air-fuel ratio. Analyse how the added steam now impacts the LHV and CGE, and relate it to the evolution of optimal ER.\n",
    "\n",
    "In addition, observe the effect of high amounts of steam (SBR up to 1): what can you say about the reliability of the results, considering the products temperature Teq and **ER** the underlying assumptions of the equilibrium model?"
   ]
  },
  {
   "cell_type": "code",
   "execution_count": null,
   "metadata": {},
   "outputs": [],
   "source": []
  },
  {
   "cell_type": "markdown",
   "metadata": {},
   "source": [
    "**Observations**:\n"
   ]
  },
  {
   "cell_type": "markdown",
   "metadata": {},
   "source": [
    "### Minimum Teq\n",
    "\n",
    "In an actual gasifier, the syngas outlet temperature would normally never go below 600°C. This can be constrained in the equilibrium model, by setting the value of `Teq_min` (input argument, in °C). Try it out and observe the results. What would you conclude regarding the potential gains from steam injection on biomass gasification (syngas properties, efficiency...)?"
   ]
  },
  {
   "cell_type": "code",
   "execution_count": null,
   "metadata": {},
   "outputs": [],
   "source": []
  },
  {
   "cell_type": "markdown",
   "metadata": {},
   "source": [
    "**Observations**:\n"
   ]
  },
  {
   "cell_type": "markdown",
   "metadata": {},
   "source": [
    "### Net energy gain\n",
    "\n",
    "Based on your previous observations, calculate the net energy impact of injecting steam, considering the energy required to produce that steam. Assume a perfect boiler with no heat losses and feedwater at 25°C.\n",
    "\n",
    "What would you conclude on the benefit of steam injection on gasification, if steam is produced using a natural gas steam boiler? What other options do you think would be feasible to inject steam yielding a net energy gain?"
   ]
  },
  {
   "cell_type": "code",
   "execution_count": null,
   "metadata": {},
   "outputs": [],
   "source": []
  },
  {
   "cell_type": "markdown",
   "metadata": {},
   "source": [
    "**Observations**:\n"
   ]
  },
  {
   "cell_type": "markdown",
   "metadata": {},
   "source": [
    "## Additional analyses"
   ]
  },
  {
   "cell_type": "markdown",
   "metadata": {},
   "source": [
    "For the last part of this assignment, choose any other variable(s) on which to perform an additional analysis.\n",
    "\n",
    "You could, for example, analyse the impact of varying air preheating (`Tair`), oxygen enrichment (`O2_air`) or biomass parameters (`x`, `y`, `z`, `LHV`) or combinations of variables on the results of the model such as `LHV`, `CGE`, syngas composition (`nmol`, `x_drygas`), equilibrium temperature `Teq`, etc. "
   ]
  },
  {
   "cell_type": "markdown",
   "metadata": {},
   "source": [
    "### ..."
   ]
  },
  {
   "cell_type": "code",
   "execution_count": null,
   "metadata": {},
   "outputs": [],
   "source": []
  },
  {
   "cell_type": "markdown",
   "metadata": {},
   "source": [
    "**Observations**\n"
   ]
  }
 ],
 "metadata": {
  "hide_input": false,
  "kernelspec": {
   "display_name": "Python 3",
   "language": "python",
   "name": "python3"
  },
  "language_info": {
   "codemirror_mode": {
    "name": "ipython",
    "version": 3
   },
   "file_extension": ".py",
   "mimetype": "text/x-python",
   "name": "python",
   "nbconvert_exporter": "python",
   "pygments_lexer": "ipython3",
   "version": "3.7.3"
  },
  "toc": {
   "base_numbering": 1,
   "nav_menu": {},
   "number_sections": true,
   "sideBar": false,
   "skip_h1_title": false,
   "title_cell": "Table of Contents",
   "title_sidebar": "Contents",
   "toc_cell": false,
   "toc_position": {},
   "toc_section_display": true,
   "toc_window_display": false
  },
  "varInspector": {
   "cols": {
    "lenName": 16,
    "lenType": 16,
    "lenVar": 40
   },
   "kernels_config": {
    "python": {
     "delete_cmd_postfix": "",
     "delete_cmd_prefix": "del ",
     "library": "var_list.py",
     "varRefreshCmd": "print(var_dic_list())"
    },
    "r": {
     "delete_cmd_postfix": ") ",
     "delete_cmd_prefix": "rm(",
     "library": "var_list.r",
     "varRefreshCmd": "cat(var_dic_list()) "
    }
   },
   "types_to_exclude": [
    "module",
    "function",
    "builtin_function_or_method",
    "instance",
    "_Feature"
   ],
   "window_display": false
  }
 },
 "nbformat": 4,
 "nbformat_minor": 4
}
